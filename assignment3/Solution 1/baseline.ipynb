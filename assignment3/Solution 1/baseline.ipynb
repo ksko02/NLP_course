{
 "cells": [
  {
   "cell_type": "markdown",
   "metadata": {
    "id": "dUjKxAlbjujP"
   },
   "source": [
    "# Baseline solution using library Natasha"
   ]
  },
  {
   "cell_type": "markdown",
   "metadata": {
    "id": "Nwlo5nRrj-QO"
   },
   "source": [
    "## Load data"
   ]
  },
  {
   "cell_type": "code",
   "execution_count": 1,
   "metadata": {
    "id": "-y32Vl9KRfqM"
   },
   "outputs": [],
   "source": [
    "from zipfile import ZipFile\n",
    "import pandas as pd"
   ]
  },
  {
   "cell_type": "code",
   "execution_count": 4,
   "metadata": {
    "id": "nak7EnV2Rfns"
   },
   "outputs": [],
   "source": [
    "with ZipFile(\"../data/public_dat.zip\", \"r\") as myzip:\n",
    "    myzip.extractall(path='../data',  members=['dev.jsonl', 'test.jsonl', 'train.jsonl'])"
   ]
  },
  {
   "cell_type": "code",
   "execution_count": 36,
   "metadata": {
    "colab": {
     "base_uri": "https://localhost:8080/",
     "height": 206
    },
    "id": "Kdxo63nGRfk7",
    "outputId": "81aeb5c1-5d11-4a50-8228-a5861b8e2487"
   },
   "outputs": [
    {
     "data": {
      "application/vnd.google.colaboratory.intrinsic+json": {
       "summary": "{\n  \"name\": \"test\",\n  \"rows\": 65,\n  \"fields\": [\n    {\n      \"column\": \"senences\",\n      \"properties\": {\n        \"dtype\": \"string\",\n        \"num_unique_values\": 65,\n        \"samples\": [\n          \"\\u0412 \\u0413\\u0435\\u0440\\u043c\\u0430\\u043d\\u0438\\u0438 \\u0441\\u043a\\u043e\\u043d\\u0447\\u0430\\u043b\\u0430\\u0441\\u044c \\u0415\\u043b\\u0435\\u043d\\u0430 \\u041e\\u0431\\u0440\\u0430\\u0437\\u0446\\u043e\\u0432\\u0430\\n\\u0415\\u043b\\u0435\\u043d\\u0430 \\u041e\\u0431\\u0440\\u0430\\u0437\\u0446\\u043e\\u0432\\u0430\\n\\u0412 \\u0413\\u0435\\u0440\\u043c\\u0430\\u043d\\u0438\\u0438 \\u043d\\u0430 76-\\u043c \\u0433\\u043e\\u0434\\u0443 \\u0436\\u0438\\u0437\\u043d\\u0438 \\u0441\\u043a\\u043e\\u043d\\u0447\\u0430\\u043b\\u0430\\u0441\\u044c \\u043d\\u0430\\u0440\\u043e\\u0434\\u043d\\u0430\\u044f \\u0430\\u0440\\u0442\\u0438\\u0441\\u0442\\u043a\\u0430 \\u0421\\u0421\\u0421\\u0420, \\u043e\\u043f\\u0435\\u0440\\u043d\\u0430\\u044f \\u043f\\u0435\\u0432\\u0438\\u0446\\u0430 \\u0415\\u043b\\u0435\\u043d\\u0430 \\u041e\\u0431\\u0440\\u0430\\u0437\\u0446\\u043e\\u0432\\u0430.\\n\\n\\u0415\\u043b\\u0435\\u043d\\u0430 \\u0412\\u0430\\u0441\\u0438\\u043b\\u044c\\u0435\\u0432\\u043d\\u0430 \\u0431\\u043e\\u043b\\u0435\\u043b\\u0430 \\u0438 \\u0432 \\u043a\\u043e\\u043d\\u0446\\u0435 \\u043d\\u043e\\u044f\\u0431\\u0440\\u044f 2014 \\u0433\\u043e\\u0434\\u0430 \\u0432\\u0440\\u0430\\u0447\\u0438 \\u043f\\u043e\\u0441\\u043e\\u0432\\u0435\\u0442\\u043e\\u0432\\u0430\\u043b\\u0438 \\u043e\\u043f\\u0435\\u0440\\u043d\\u043e\\u0439 \\u043f\\u0435\\u0432\\u0438\\u0446\\u0435 \\u0443\\u0435\\u0445\\u0430\\u0442\\u044c \\u0432 \\u0413\\u0435\\u0440\\u043c\\u0430\\u043d\\u0438\\u044e \\u043d\\u0430 \\u0437\\u0438\\u043c\\u0443 \\u0438\\u0437-\\u0437\\u0430 \\u043a\\u043b\\u0438\\u043c\\u0430\\u0442\\u0430.\\n\\u0412 \\u0441\\u0432\\u044f\\u0437\\u0438 \\u0441 \\u044d\\u0442\\u0438\\u043c \\u0434\\u0430\\u0436\\u0435 \\u0431\\u044b\\u043b \\u043e\\u0442\\u043c\\u0435\\u043d\\u0451\\u043d \\u0435\\u0435 \\u043a\\u043e\\u043d\\u0446\\u0435\\u0440\\u0442, \\u043a\\u043e\\u0442\\u043e\\u0440\\u044b\\u0439 \\u0434\\u043e\\u043b\\u0436\\u0435\\u043d \\u0431\\u044b\\u043b \\u0441\\u043e\\u0441\\u0442\\u043e\\u044f\\u0442\\u044c\\u0441\\u044f 11 \\u0434\\u0435\\u043a\\u0430\\u0431\\u0440\\u044f 2014 \\u0433\\u043e\\u0434\\u0430 \\u0432 \\u0413\\u043e\\u0441\\u0443\\u0434\\u0430\\u0440\\u0441\\u0442\\u0432\\u0435\\u043d\\u043d\\u043e\\u043c \\u041a\\u0440\\u0435\\u043c\\u043b\\u0435\\u0432\\u0441\\u043a\\u043e\\u043c \\u0434\\u0432\\u043e\\u0440\\u0446\\u0435.\\n\\nC\\u043e\\u0432\\u0435\\u0442\\u0441\\u043a\\u0430\\u044f \\u0438 \\u0440\\u043e\\u0441\\u0441\\u0438\\u0439\\u0441\\u043a\\u0430\\u044f \\u043e\\u043f\\u0435\\u0440\\u043d\\u0430\\u044f \\u043f\\u0435\\u0432\\u0438\\u0446\\u0430 (\\u043c\\u0435\\u0446\\u0446\\u043e-\\u0441\\u043e\\u043f\\u0440\\u0430\\u043d\\u043e), \\u0430\\u043a\\u0442\\u0440\\u0438\\u0441\\u0430, \\u043f\\u0435\\u0434\\u0430\\u0433\\u043e\\u0433, \\u041d\\u0430\\u0440\\u043e\\u0434\\u043d\\u0430\\u044f \\u0430\\u0440\\u0442\\u0438\\u0441\\u0442\\u043a\\u0430 \\u0421\\u0421\\u0421\\u0420 (1976), \\u0413\\u0435\\u0440\\u043e\\u0439 \\u0421\\u043e\\u0446\\u0438\\u0430\\u043b\\u0438\\u0441\\u0442\\u0438\\u0447\\u0435\\u0441\\u043a\\u043e\\u0433\\u043e \\u0422\\u0440\\u0443\\u0434\\u0430 (1990), \\u041b\\u0430\\u0443\\u0440\\u0435\\u0430\\u0442 \\u041b\\u0435\\u043d\\u0438\\u043d\\u0441\\u043a\\u043e\\u0439 \\u043f\\u0440\\u0435\\u043c\\u0438\\u0438 (1976) \\u0415\\u043b\\u0435\\u043d\\u0430 \\u0412\\u0430\\u0441\\u0438\\u043b\\u044c\\u0435\\u0432\\u043d\\u0430 \\u041e\\u0431\\u0440\\u0430\\u0437\\u0446\\u043e\\u0432\\u0430 \\u0440\\u043e\\u0434\\u0438\\u043b\\u0430\\u0441\\u044c 7 \\u0438\\u044e\\u043b\\u044f 1939 \\u0433\\u043e\\u0434\\u0430 \\u0432 \\u041b\\u0435\\u043d\\u0438\\u043d\\u0433\\u0440\\u0430\\u0434\\u0435.\\n\\n\\u041d\\u0430\\u0447\\u0430\\u043b\\u0430 \\u043f\\u0435\\u0442\\u044c \\u0441 \\u043f\\u044f\\u0442\\u0438 \\u043b\\u0435\\u0442.\\n\\n\\u0415\\u0449\\u0451 \\u0441\\u0442\\u0443\\u0434\\u0435\\u043d\\u0442\\u043a\\u043e\\u0439 \\u0432\\u044b\\u0441\\u0442\\u0443\\u043f\\u0430\\u043b\\u0430 \\u043d\\u0430 \\u043f\\u043e\\u0434\\u043c\\u043e\\u0441\\u0442\\u043a\\u0438 \\u0411\\u043e\\u043b\\u044c\\u0448\\u043e\\u0433\\u043e \\u0442\\u0435\\u0430\\u0442\\u0440\\u0430, \\u0438\\u0441\\u043f\\u043e\\u043b\\u043d\\u0438\\u0432 \\u043f\\u0430\\u0440\\u0442\\u0438\\u044e \\u041c\\u0430\\u0440\\u0438\\u043d\\u044b \\u041c\\u043d\\u0438\\u0448\\u0435\\u043a \\u0432 \\u043e\\u043f\\u0435\\u0440\\u0435 \\u041c\\u0443\\u0441\\u043e\\u0440\\u0433\\u0441\\u043a\\u043e\\u0433\\u043e \\u00ab\\u0411\\u043e\\u0440\\u0438\\u0441 \\u0413\\u043e\\u0434\\u0443\\u043d\\u043e\\u0432\\u00bb 17 \\u0434\\u0435\\u043a\\u0430\\u0431\\u0440\\u044f 1963 \\u0433\\u043e\\u0434\\u0430.\\n\\n\\u0413\\u043e\\u043b\\u043e\\u0441 \\u041e\\u0431\\u0440\\u0430\\u0437\\u0446\\u043e\\u0432\\u043e\\u0439 \\u0437\\u0432\\u0443\\u0447\\u0430\\u043b \\u0432 \\u043a\\u0440\\u0443\\u043f\\u043d\\u0435\\u0439\\u0448\\u0438\\u0445 \\u0442\\u0435\\u0430\\u0442\\u0440\\u0430\\u0445 \\u0438 \\u043a\\u043e\\u043d\\u0446\\u0435\\u0440\\u0442\\u043d\\u044b\\u0445 \\u0437\\u0430\\u043b\\u0430\\u0445 \\u043c\\u0438\\u0440\\u0430, \\u0432\\u043a\\u043b\\u044e\\u0447\\u0430\\u044f \\u043c\\u0438\\u043b\\u0430\\u043d\\u0441\\u043a\\u0438\\u0439 \\u00ab\\u041b\\u0430 \\u0421\\u043a\\u0430\\u043b\\u0430\\u00bb, \\u043d\\u044c\\u044e-\\u0439\\u043e\\u0440\\u043a\\u0441\\u043a\\u0443\\u044e \\u00ab\\u041c\\u0435\\u0442\\u0440\\u043e\\u043f\\u043e\\u043b\\u0438\\u0442\\u0435\\u043d-\\u041e\\u043f\\u0435\\u0440\\u0430\\u00bb, \\u043b\\u043e\\u043d\\u0434\\u043e\\u043d\\u0441\\u043a\\u0438\\u0439 \\u00ab\\u041a\\u043e\\u0432\\u0435\\u043d\\u0442 \\u0413\\u0430\\u0440\\u0434\\u0435\\u043d\\u00bb, \\u0412\\u0435\\u043d\\u0441\\u043a\\u0443\\u044e \\u0433\\u043e\\u0441\\u0443\\u0434\\u0430\\u0440\\u0441\\u0442\\u0432\\u0435\\u043d\\u043d\\u0443\\u044e \\u043e\\u043f\\u0435\\u0440\\u0443.\\n\\n\\u041f\\u043e\\u0445\\u043e\\u0440\\u043e\\u043d\\u044b \\u0415\\u043b\\u0435\\u043d\\u044b \\u041e\\u0431\\u0440\\u0430\\u0437\\u0446\\u043e\\u0432\\u043e\\u0439 \\u043f\\u0440\\u043e\\u0439\\u0434\\u0443\\u0442 \\u0432 \\u041c\\u043e\\u0441\\u043a\\u0432\\u0435, \\u0432\\u0435\\u0440\\u043e\\u044f\\u0442\\u043d\\u043e \\u043d\\u0430 \\u041d\\u043e\\u0432\\u043e\\u0434\\u0435\\u0432\\u0438\\u0447\\u044c\\u0435\\u043c \\u043a\\u043b\\u0430\\u0434\\u0431\\u0438\\u0449\\u0435, \\u043e\\u0442\\u043f\\u0435\\u0432\\u0430\\u043d\\u0438\\u0435 - \\u0432 \\u0425\\u0440\\u0430\\u043c\\u0435 \\u0425\\u0440\\u0438\\u0441\\u0442\\u0430 \\u0421\\u043f\\u0430\\u0441\\u0438\\u0442\\u0435\\u043b\\u044f, \\u043f\\u0440\\u043e\\u0449\\u0430\\u043d\\u0438\\u0435 - \\u0432 \\u0411\\u043e\\u043b\\u044c\\u0448\\u043e\\u043c \\u0442\\u0435\\u0430\\u0442\\u0440\\u0435.\\n\\n\\u041e \\u0434\\u0430\\u0442\\u0430\\u0445 \\u0438 \\u0432\\u0440\\u0435\\u043c\\u0435\\u043d\\u0438 \\u0431\\u0443\\u0434\\u0435\\u0442 \\u0441\\u043e\\u043e\\u0431\\u0449\\u0435\\u043d\\u043e \\u0434\\u043e\\u043f\\u043e\\u043b\\u043d\\u0438\\u0442\\u0435\\u043b\\u044c\\u043d\\u043e.\\n\",\n          \"\\u041e\\u0411\\u0421\\u0415 \\u043d\\u0430\\u0437\\u0432\\u0430\\u043b\\u0430 \\u0440\\u0435\\u0444\\u0435\\u0440\\u0435\\u043d\\u0434\\u0443\\u043c \\u043e \\u0441\\u0442\\u0430\\u0442\\u0443\\u0441\\u0435 \\u041a\\u0440\\u044b\\u043c\\u0430 \\u043d\\u0435\\u0437\\u0430\\u043a\\u043e\\u043d\\u043d\\u044b\\u043c \\u0438 \\u043d\\u0435 \\u043f\\u0440\\u0438\\u0448\\u043b\\u0451\\u0442 \\u0441\\u0432\\u043e\\u0438\\u0445 \\u043d\\u0430\\u0431\\u043b\\u044e\\u0434\\u0430\\u0442\\u0435\\u043b\\u0435\\u0439\\n\\n\\u0414\\u0438\\u0434\\u044c\\u0435 \\u0411\\u0443\\u0440\\u043a\\u0445\\u0430\\u043b\\u044c\\u0442\\u0435\\u0440\\n11 \\u043c\\u0430\\u0440\\u0442\\u0430 2014 \\u0433\\u043e\\u0434\\u0430 \\u041f\\u0440\\u0435\\u0434\\u0441\\u0435\\u0434\\u0430\\u0442\\u0435\\u043b\\u044c \\u041e\\u0411\\u0421\\u0415, \\u043c\\u0438\\u043d\\u0438\\u0441\\u0442\\u0440 \\u0438\\u043d\\u043e\\u0441\\u0442\\u0440\\u0430\\u043d\\u043d\\u044b\\u0445 \\u0434\\u0435\\u043b \\u0428\\u0432\\u0435\\u0439\\u0446\\u0430\\u0440\\u0438\\u0438 \\u0414\\u0438\\u0434\\u044c\\u0435 \\u0411\\u0443\\u0440\\u043a\\u0445\\u0430\\u043b\\u044c\\u0442\\u0435\\u0440 [http://www.osce.org/ru/cio/116317 \\u0437\\u0430\\u044f\\u0432\\u0438\\u043b], \\u0447\\u0442\\u043e \\u0440\\u0435\\u0444\\u0435\\u0440\\u0435\\u043d\\u0434\\u0443\\u043c \\u043e \\u0441\\u0442\\u0430\\u0442\\u0443\\u0441\\u0435 \\u041a\\u0440\\u044b\\u043c\\u0430, \\u043a\\u043e\\u0442\\u043e\\u0440\\u044b\\u0439 \\u0434\\u043e\\u043b\\u0436\\u0435\\u043d \\u0441\\u043e\\u0441\\u0442\\u043e\\u044f\\u0442\\u044c\\u0441\\u044f \\u0432 \\u0430\\u0432\\u0442\\u043e\\u043d\\u043e\\u043c\\u0438\\u0438 16 \\u043c\\u0430\\u0440\\u0442\\u0430 2014 \\u0433\\u043e\\u0434\\u0430, \\u0432 \\u0435\\u0433\\u043e \\u043d\\u044b\\u043d\\u0435\\u0448\\u043d\\u0435\\u0439 \\u0444\\u043e\\u0440\\u043c\\u0435 \\u044f\\u0432\\u043b\\u044f\\u0435\\u0442\\u0441\\u044f \\u043d\\u0435\\u0437\\u0430\\u043a\\u043e\\u043d\\u043d\\u044b\\u043c, \\u043f\\u0440\\u0438\\u0437\\u0432\\u0430\\u043b \\u0432\\u043e\\u0437\\u0434\\u0435\\u0440\\u0436\\u0430\\u0442\\u044c\\u0441\\u044f \\u043e\\u0442 \\u043f\\u043e\\u0434\\u0434\\u0435\\u0440\\u0436\\u043a\\u0438 \\u043d\\u0435\\u043a\\u043e\\u043d\\u0441\\u0442\\u0438\\u0442\\u0443\\u0446\\u0438\\u043e\\u043d\\u043d\\u044b\\u0445 \\u0434\\u0435\\u0439\\u0441\\u0442\\u0432\\u0438\\u0439 \\u0438 \\u0441\\u043e\\u043e\\u0431\\u0449\\u0438\\u043b, \\u0447\\u0442\\u043e \\u041e\\u0411\\u0421\\u0415 \\u043d\\u0435 \\u043f\\u0440\\u0438\\u0448\\u043b\\u0451\\u0442 \\u043d\\u0430 \\u043d\\u0435\\u0433\\u043e \\u0441\\u0432\\u043e\\u0438\\u0445 \\u043d\\u0430\\u0431\\u043b\\u044e\\u0434\\u0430\\u0442\\u0435\\u043b\\u0435\\u0439\\u00a0\\u2014 \\u043d\\u0435 \\u0441\\u0442\\u0430\\u043d\\u0435\\u0442 \\u0443\\u0447\\u0430\\u0441\\u0442\\u0432\\u0443\\u0432\\u0430\\u0442\\u044c \\u0432 \\u0435\\u0433\\u043e \\u043b\\u0435\\u0433\\u0438\\u0442\\u0438\\u043c\\u0438\\u0437\\u0430\\u0446\\u0438\\u0438.\\n\\n\\u041f\\u043e \\u0441\\u043b\\u043e\\u0432\\u0430\\u043c \\u0411\\u0443\\u0440\\u043a\\u0445\\u0430\\u043b\\u044c\\u0442\\u0435\\u0440, \\u0440\\u0435\\u0444\\u0435\\u0440\\u0435\\u043d\\u0434\\u0443\\u043c \\u0434\\u043e\\u043b\\u0436\\u0435\\u043d \\u0431\\u0430\\u0437\\u0438\\u0440\\u043e\\u0432\\u0430\\u0442\\u044c\\u0441\\u044f \\u043d\\u0430 \\u0443\\u043a\\u0440\\u0430\\u0438\\u043d\\u0441\\u043a\\u043e\\u0439 \\u041a\\u043e\\u043d\\u0441\\u0442\\u0438\\u0442\\u0443\\u0446\\u0438\\u0438 \\u0438 \\u0441\\u043e\\u043e\\u0442\\u0432\\u0435\\u0442\\u0441\\u0442\\u0432\\u043e\\u0432\\u0430\\u0442\\u044c \\u043f\\u0440\\u0438\\u043d\\u0446\\u0438\\u043f\\u0430\\u043c \\u043c\\u0435\\u0436\\u0434\\u0443\\u043d\\u0430\\u0440\\u043e\\u0434\\u043d\\u043e\\u0433\\u043e \\u043f\\u0440\\u0430\\u0432\\u0430.\\n\\n\\u041e\\u0434\\u043d\\u0438\\u043c \\u043f\\u0440\\u0435\\u043f\\u044f\\u0442\\u0441\\u0442\\u0432\\u0438\\u0435\\u043c \\u0434\\u043b\\u044f \\u043e\\u0442\\u043f\\u0440\\u0430\\u0432\\u043a\\u0438 \\u043d\\u0430\\u0431\\u043b\\u044e\\u0434\\u0430\\u0442\\u0435\\u043b\\u0435\\u0439, \\u043f\\u043e \\u043c\\u043d\\u0435\\u043d\\u0438\\u044e \\u041e\\u0411\\u0421\\u0415, \\u044f\\u0432\\u043b\\u044f\\u0435\\u0442\\u0441\\u044f \\u043e\\u0442\\u0441\\u0443\\u0442\\u0441\\u0442\\u0432\\u0438\\u0435 \\u043f\\u0440\\u0438\\u0433\\u043b\\u0430\\u0448\\u0435\\u043d\\u0438\\u044f \\u0441\\u043e \\u0441\\u0442\\u043e\\u0440\\u043e\\u043d\\u044b \\u0432\\u043b\\u0430\\u0441\\u0442\\u0435\\u0439 \\u0423\\u043a\\u0440\\u0430\\u0438\\u043d\\u044b\\u00a0\\u2014 \\u0437\\u0430\\u043f\\u0440\\u043e\\u0441 \\u043e \\u043d\\u0430\\u0431\\u043b\\u044e\\u0434\\u0435\\u043d\\u0438\\u0438 \\u0431\\u044b\\u043b \\u043e\\u0442\\u043f\\u0440\\u0430\\u0432\\u043b\\u0435\\u043d \\u043f\\u0430\\u0440\\u043b\\u0430\\u043c\\u0435\\u043d\\u0442\\u043e\\u043c \\u041a\\u0440\\u044b\\u043c\\u0430, \\u0430 \\u043d\\u0435 \\u041a\\u0438\\u0435\\u0432\\u043e\\u043c.\\n\\n\\u0412 \\u0442\\u043e \\u0436\\u0435 \\u0432\\u0440\\u0435\\u043c\\u044f \\u0411\\u0443\\u0440\\u043a\\u0445\\u0430\\u043b\\u044c\\u0442\\u0435\\u0440 \\u0441\\u043e\\u043e\\u0431\\u0449\\u0438\\u043b, \\u0447\\u0442\\u043e \\u041e\\u0411\\u0421\\u0415 \\u0433\\u043e\\u0442\\u043e\\u0432\\u0430 \\u0432\\u0435\\u0441\\u0442\\u0438 \\u0434\\u0438\\u0430\\u043b\\u043e\\u0433 \\u0441\\u043e \\u0432\\u0441\\u0435\\u043c\\u0438 \\u0441\\u0442\\u043e\\u0440\\u043e\\u043d\\u0430\\u043c\\u0438 \\u043f\\u043e \\u0432\\u044b\\u0445\\u043e\\u0434\\u0443 \\u0438\\u0437 \\u0441\\u043e\\u0437\\u0434\\u0430\\u0432\\u0448\\u0435\\u0439\\u0441\\u044f \\u0432\\u043e\\u043a\\u0440\\u0443\\u0433 \\u041a\\u0440\\u044b\\u043c\\u0430 \\u0441\\u0438\\u0442\\u0443\\u0430\\u0446\\u0438\\u0438.\\n\\n\\u0417\\u0430\\u044f\\u0432\\u043b\\u0435\\u043d\\u0438\\u0435 \\u041e\\u0411\\u0421\\u0415 \\u043f\\u043e\\u0441\\u043b\\u0435\\u0434\\u043e\\u0432\\u0430\\u043b\\u043e \\u0441\\u0440\\u0430\\u0437\\u0443 \\u043f\\u043e\\u0441\\u043b\\u0435 \\u0442\\u043e\\u0433\\u043e, \\u043a\\u0430\\u043a 11 \\u043c\\u0430\\u0440\\u0442\\u0430 2014 \\u0433\\u043e\\u0434\\u0430 \\u0434\\u0435\\u043f\\u0443\\u0442\\u0430\\u0442\\u044b \\u0412\\u0435\\u0440\\u0445\\u043e\\u0432\\u043d\\u043e\\u0433\\u043e \\u0421\\u043e\\u0432\\u0435\\u0442\\u0430 \\u0410\\u0432\\u0442\\u043e\\u043d\\u043e\\u043c\\u043d\\u043e\\u0439 \\u0420\\u0435\\u0441\\u043f\\u0443\\u0431\\u043b\\u0438\\u043a\\u0438 \\u041a\\u0440\\u044b\\u043c \\u0438 \\u0421\\u0435\\u0432\\u0430\\u0441\\u0442\\u043e\\u043f\\u043e\\u043b\\u044c\\u0441\\u043a\\u043e\\u0433\\u043e \\u0433\\u043e\\u0440\\u043e\\u0434\\u0441\\u043a\\u043e\\u0433\\u043e \\u0421\\u043e\\u0432\\u0435\\u0442\\u0430 \\u043f\\u0440\\u0438\\u043d\\u044f\\u043b\\u0438 \\u0434\\u0435\\u043a\\u043b\\u0430\\u0440\\u0430\\u0446\\u0438\\u044e \\u043e \\u043d\\u0435\\u0437\\u0430\\u0432\\u0438\\u0441\\u0438\\u043c\\u043e\\u0441\\u0442\\u0438 \\u043e\\u0442 \\u0423\\u043a\\u0440\\u0430\\u0438\\u043d\\u044b.\\n\\n\\n\\n\\n\\n\",\n          \"\\u0412\\u043b\\u0430\\u0434\\u0435\\u043b\\u0435\\u0446 \\u00ab\\u0411\\u0438\\u0440\\u043c\\u0438\\u043d\\u0433\\u0435\\u043c\\u0430\\u00bb \\u043f\\u043e\\u043b\\u0443\\u0447\\u0438\\u043b \\u0448\\u0435\\u0441\\u0442\\u044c \\u043b\\u0435\\u0442 \\u0442\\u044e\\u0440\\u044c\\u043c\\u044b\\n\\u043c\\u0438\\u043d\\u0438|\\u0441\\u043b\\u0435\\u0432\\u0430|\\u00ab\\u0421\\u0435\\u043d\\u0442-\\u042d\\u043d\\u0434\\u0440\\u044e\\u0441\\u00bb \\u2014 \\u0434\\u043e\\u043c\\u0430\\u0448\\u043d\\u0438\\u0439 \\u0441\\u0442\\u0430\\u0434\\u0438\\u043e\\u043d \\u0444\\u0443\\u0442\\u0431\\u043e\\u043b\\u044c\\u043d\\u043e\\u0433\\u043e \\u043a\\u043b\\u0443\\u0431\\u0430 \\u00ab\\u0411\\u0438\\u0440\\u043c\\u0438\\u043d\\u0433\\u0435\\u043c \\u0421\\u0438\\u0442\\u0438\\u00bb\\n\\u0412 \\u043f\\u044f\\u0442\\u043d\\u0438\\u0446\\u0443, 7 \\u043c\\u0430\\u0440\\u0442\\u0430 \\u0441\\u0443\\u0434 \\u0413\\u043e\\u043d\\u043a\\u043e\\u043d\\u0433\\u0430 \\u043f\\u0440\\u0438\\u0433\\u043e\\u0432\\u043e\\u0440\\u0438\\u043b \\u0432\\u043b\\u0430\\u0434\\u0435\\u043b\\u044c\\u0446\\u0430 \\u0444\\u0443\\u0442\\u0431\\u043e\\u043b\\u044c\\u043d\\u043e\\u0433\\u043e \\u043a\\u043b\\u0443\\u0431\\u0430 \\u00ab\\u0411\\u0438\\u0440\\u043c\\u0438\\u043d\\u0433\\u0435\\u043c \\u0421\\u0438\\u0442\\u0438\\u00bb \\u041a\\u0430\\u0440\\u0441\\u043e\\u043d\\u0430 \\u0401\\u043d\\u0433\\u0430 (Carson Yeung, \\u0442\\u0430\\u043a\\u0436\\u0435 \\u0432 \\u043d\\u0435\\u043a\\u043e\\u0442\\u043e\\u0440\\u044b\\u0445 \\u0438\\u0441\\u0442\\u043e\\u0447\\u043d\\u0438\\u043a\\u0430\\u0445 \\u2014 \\u041a\\u0430\\u0440\\u0441\\u043e\\u043d \\u042e\\u043d\\u0433; \\u041a\\u0430\\u0440\\u0441\\u043e\\u043d \\u0401\\u043d) \\u043a \\u0448\\u0435\\u0441\\u0442\\u0438 \\u0433\\u043e\\u0434\\u0430\\u043c \\u0442\\u044e\\u0440\\u0435\\u043c\\u043d\\u043e\\u0433\\u043e \\u0437\\u0430\\u043a\\u043b\\u044e\\u0447\\u0435\\u043d\\u0438\\u044f \\u0437\\u0430 \\u043c\\u043e\\u0448\\u0435\\u043d\\u043d\\u0438\\u0447\\u0435\\u0441\\u0442\\u0432\\u043e.\\n\\n54-\\u043b\\u0435\\u0442\\u043d\\u0438\\u0439 \\u0431\\u0438\\u0437\\u043d\\u0435\\u0441\\u043c\\u0435\\u043d \\u0431\\u044b\\u043b \\u043f\\u0440\\u0438\\u0437\\u043d\\u0430\\u043d \\u0432\\u0438\\u043d\\u043e\\u0432\\u043d\\u044b\\u043c \\u0432 \\u043e\\u0442\\u043c\\u044b\\u0432\\u0430\\u043d\\u0438\\u0438 55 \\u043c\\u0438\\u043b\\u043b\\u0438\\u043e\\u043d\\u043e\\u0432 \\u0444\\u0443\\u043d\\u0442\\u043e\\u0432 \\u0441\\u0442\\u0435\\u0440\\u043b\\u0438\\u043d\\u0433\\u043e\\u0432 \\u0447\\u0435\\u0440\\u0435\\u0437 \\u0435\\u0433\\u043e \\u0431\\u0430\\u043d\\u043a\\u043e\\u0432\\u0441\\u043a\\u0438\\u0435 \\u0441\\u0447\\u0435\\u0442\\u0430 \\u0432 \\u043f\\u0435\\u0440\\u0438\\u043e\\u0434 \\u0441 2001 \\u043f\\u043e 2007 \\u0433\\u043e\\u0434\\u044b.\\n\\n\\u041a\\u0430\\u0440\\u0441\\u043e\\u043d \\u0401\\u043d\\u0433 \\u0441\\u0442\\u0430\\u043b \\u0432\\u043b\\u0430\\u0434\\u0435\\u043b\\u044c\\u0446\\u0435\\u043c \\u00ab\\u0411\\u0438\\u0440\\u043c\\u0438\\u043d\\u0433\\u0435\\u043c\\u0430\\u00bb \\u0432 2009 \\u0433\\u043e\\u0434\\u0443, \\u043f\\u0440\\u0438\\u043e\\u0431\\u0440\\u0435\\u0442\\u044f \\u0435\\u0433\\u043e \\u0437\\u0430 81,5 \\u043c\\u0438\\u043b\\u043b\\u0438\\u043e\\u043d\\u043e\\u0432 \\u0444\\u0443\\u043d\\u0442\\u043e\\u0432 \\u0441\\u0442\\u0435\\u0440\\u043b\\u0438\\u043d\\u0433\\u043e\\u0432.\\n\"\n        ],\n        \"semantic_type\": \"\",\n        \"description\": \"\"\n      }\n    },\n    {\n      \"column\": \"id\",\n      \"properties\": {\n        \"dtype\": \"number\",\n        \"std\": 18,\n        \"min\": 584,\n        \"max\": 648,\n        \"num_unique_values\": 65,\n        \"samples\": [\n          637,\n          644,\n          584\n        ],\n        \"semantic_type\": \"\",\n        \"description\": \"\"\n      }\n    }\n  ]\n}",
       "type": "dataframe",
       "variable_name": "test"
      },
      "text/html": [
       "\n",
       "  <div id=\"df-056fcfa6-ae3b-4a07-9133-13674fc64c82\" class=\"colab-df-container\">\n",
       "    <div>\n",
       "<style scoped>\n",
       "    .dataframe tbody tr th:only-of-type {\n",
       "        vertical-align: middle;\n",
       "    }\n",
       "\n",
       "    .dataframe tbody tr th {\n",
       "        vertical-align: top;\n",
       "    }\n",
       "\n",
       "    .dataframe thead th {\n",
       "        text-align: right;\n",
       "    }\n",
       "</style>\n",
       "<table border=\"1\" class=\"dataframe\">\n",
       "  <thead>\n",
       "    <tr style=\"text-align: right;\">\n",
       "      <th></th>\n",
       "      <th>senences</th>\n",
       "      <th>id</th>\n",
       "    </tr>\n",
       "  </thead>\n",
       "  <tbody>\n",
       "    <tr>\n",
       "      <th>0</th>\n",
       "      <td>Владелец «Бирмингема» получил шесть лет тюрьмы...</td>\n",
       "      <td>584</td>\n",
       "    </tr>\n",
       "    <tr>\n",
       "      <th>1</th>\n",
       "      <td>Акция протеста на Майдане Независимости объявл...</td>\n",
       "      <td>585</td>\n",
       "    </tr>\n",
       "    <tr>\n",
       "      <th>2</th>\n",
       "      <td>Фольксваген может перейти под контроль Порше \\...</td>\n",
       "      <td>586</td>\n",
       "    </tr>\n",
       "    <tr>\n",
       "      <th>3</th>\n",
       "      <td>В Москве покажут фильмы Чарли Чаплина с живой ...</td>\n",
       "      <td>587</td>\n",
       "    </tr>\n",
       "    <tr>\n",
       "      <th>4</th>\n",
       "      <td>Чулпан Хаматова сыграет главную роль в фильме ...</td>\n",
       "      <td>588</td>\n",
       "    </tr>\n",
       "  </tbody>\n",
       "</table>\n",
       "</div>\n",
       "    <div class=\"colab-df-buttons\">\n",
       "\n",
       "  <div class=\"colab-df-container\">\n",
       "    <button class=\"colab-df-convert\" onclick=\"convertToInteractive('df-056fcfa6-ae3b-4a07-9133-13674fc64c82')\"\n",
       "            title=\"Convert this dataframe to an interactive table.\"\n",
       "            style=\"display:none;\">\n",
       "\n",
       "  <svg xmlns=\"http://www.w3.org/2000/svg\" height=\"24px\" viewBox=\"0 -960 960 960\">\n",
       "    <path d=\"M120-120v-720h720v720H120Zm60-500h600v-160H180v160Zm220 220h160v-160H400v160Zm0 220h160v-160H400v160ZM180-400h160v-160H180v160Zm440 0h160v-160H620v160ZM180-180h160v-160H180v160Zm440 0h160v-160H620v160Z\"/>\n",
       "  </svg>\n",
       "    </button>\n",
       "\n",
       "  <style>\n",
       "    .colab-df-container {\n",
       "      display:flex;\n",
       "      gap: 12px;\n",
       "    }\n",
       "\n",
       "    .colab-df-convert {\n",
       "      background-color: #E8F0FE;\n",
       "      border: none;\n",
       "      border-radius: 50%;\n",
       "      cursor: pointer;\n",
       "      display: none;\n",
       "      fill: #1967D2;\n",
       "      height: 32px;\n",
       "      padding: 0 0 0 0;\n",
       "      width: 32px;\n",
       "    }\n",
       "\n",
       "    .colab-df-convert:hover {\n",
       "      background-color: #E2EBFA;\n",
       "      box-shadow: 0px 1px 2px rgba(60, 64, 67, 0.3), 0px 1px 3px 1px rgba(60, 64, 67, 0.15);\n",
       "      fill: #174EA6;\n",
       "    }\n",
       "\n",
       "    .colab-df-buttons div {\n",
       "      margin-bottom: 4px;\n",
       "    }\n",
       "\n",
       "    [theme=dark] .colab-df-convert {\n",
       "      background-color: #3B4455;\n",
       "      fill: #D2E3FC;\n",
       "    }\n",
       "\n",
       "    [theme=dark] .colab-df-convert:hover {\n",
       "      background-color: #434B5C;\n",
       "      box-shadow: 0px 1px 3px 1px rgba(0, 0, 0, 0.15);\n",
       "      filter: drop-shadow(0px 1px 2px rgba(0, 0, 0, 0.3));\n",
       "      fill: #FFFFFF;\n",
       "    }\n",
       "  </style>\n",
       "\n",
       "    <script>\n",
       "      const buttonEl =\n",
       "        document.querySelector('#df-056fcfa6-ae3b-4a07-9133-13674fc64c82 button.colab-df-convert');\n",
       "      buttonEl.style.display =\n",
       "        google.colab.kernel.accessAllowed ? 'block' : 'none';\n",
       "\n",
       "      async function convertToInteractive(key) {\n",
       "        const element = document.querySelector('#df-056fcfa6-ae3b-4a07-9133-13674fc64c82');\n",
       "        const dataTable =\n",
       "          await google.colab.kernel.invokeFunction('convertToInteractive',\n",
       "                                                    [key], {});\n",
       "        if (!dataTable) return;\n",
       "\n",
       "        const docLinkHtml = 'Like what you see? Visit the ' +\n",
       "          '<a target=\"_blank\" href=https://colab.research.google.com/notebooks/data_table.ipynb>data table notebook</a>'\n",
       "          + ' to learn more about interactive tables.';\n",
       "        element.innerHTML = '';\n",
       "        dataTable['output_type'] = 'display_data';\n",
       "        await google.colab.output.renderOutput(dataTable, element);\n",
       "        const docLink = document.createElement('div');\n",
       "        docLink.innerHTML = docLinkHtml;\n",
       "        element.appendChild(docLink);\n",
       "      }\n",
       "    </script>\n",
       "  </div>\n",
       "\n",
       "\n",
       "<div id=\"df-60fdc7d5-a505-443a-b217-f4846e7bd6d5\">\n",
       "  <button class=\"colab-df-quickchart\" onclick=\"quickchart('df-60fdc7d5-a505-443a-b217-f4846e7bd6d5')\"\n",
       "            title=\"Suggest charts\"\n",
       "            style=\"display:none;\">\n",
       "\n",
       "<svg xmlns=\"http://www.w3.org/2000/svg\" height=\"24px\"viewBox=\"0 0 24 24\"\n",
       "     width=\"24px\">\n",
       "    <g>\n",
       "        <path d=\"M19 3H5c-1.1 0-2 .9-2 2v14c0 1.1.9 2 2 2h14c1.1 0 2-.9 2-2V5c0-1.1-.9-2-2-2zM9 17H7v-7h2v7zm4 0h-2V7h2v10zm4 0h-2v-4h2v4z\"/>\n",
       "    </g>\n",
       "</svg>\n",
       "  </button>\n",
       "\n",
       "<style>\n",
       "  .colab-df-quickchart {\n",
       "      --bg-color: #E8F0FE;\n",
       "      --fill-color: #1967D2;\n",
       "      --hover-bg-color: #E2EBFA;\n",
       "      --hover-fill-color: #174EA6;\n",
       "      --disabled-fill-color: #AAA;\n",
       "      --disabled-bg-color: #DDD;\n",
       "  }\n",
       "\n",
       "  [theme=dark] .colab-df-quickchart {\n",
       "      --bg-color: #3B4455;\n",
       "      --fill-color: #D2E3FC;\n",
       "      --hover-bg-color: #434B5C;\n",
       "      --hover-fill-color: #FFFFFF;\n",
       "      --disabled-bg-color: #3B4455;\n",
       "      --disabled-fill-color: #666;\n",
       "  }\n",
       "\n",
       "  .colab-df-quickchart {\n",
       "    background-color: var(--bg-color);\n",
       "    border: none;\n",
       "    border-radius: 50%;\n",
       "    cursor: pointer;\n",
       "    display: none;\n",
       "    fill: var(--fill-color);\n",
       "    height: 32px;\n",
       "    padding: 0;\n",
       "    width: 32px;\n",
       "  }\n",
       "\n",
       "  .colab-df-quickchart:hover {\n",
       "    background-color: var(--hover-bg-color);\n",
       "    box-shadow: 0 1px 2px rgba(60, 64, 67, 0.3), 0 1px 3px 1px rgba(60, 64, 67, 0.15);\n",
       "    fill: var(--button-hover-fill-color);\n",
       "  }\n",
       "\n",
       "  .colab-df-quickchart-complete:disabled,\n",
       "  .colab-df-quickchart-complete:disabled:hover {\n",
       "    background-color: var(--disabled-bg-color);\n",
       "    fill: var(--disabled-fill-color);\n",
       "    box-shadow: none;\n",
       "  }\n",
       "\n",
       "  .colab-df-spinner {\n",
       "    border: 2px solid var(--fill-color);\n",
       "    border-color: transparent;\n",
       "    border-bottom-color: var(--fill-color);\n",
       "    animation:\n",
       "      spin 1s steps(1) infinite;\n",
       "  }\n",
       "\n",
       "  @keyframes spin {\n",
       "    0% {\n",
       "      border-color: transparent;\n",
       "      border-bottom-color: var(--fill-color);\n",
       "      border-left-color: var(--fill-color);\n",
       "    }\n",
       "    20% {\n",
       "      border-color: transparent;\n",
       "      border-left-color: var(--fill-color);\n",
       "      border-top-color: var(--fill-color);\n",
       "    }\n",
       "    30% {\n",
       "      border-color: transparent;\n",
       "      border-left-color: var(--fill-color);\n",
       "      border-top-color: var(--fill-color);\n",
       "      border-right-color: var(--fill-color);\n",
       "    }\n",
       "    40% {\n",
       "      border-color: transparent;\n",
       "      border-right-color: var(--fill-color);\n",
       "      border-top-color: var(--fill-color);\n",
       "    }\n",
       "    60% {\n",
       "      border-color: transparent;\n",
       "      border-right-color: var(--fill-color);\n",
       "    }\n",
       "    80% {\n",
       "      border-color: transparent;\n",
       "      border-right-color: var(--fill-color);\n",
       "      border-bottom-color: var(--fill-color);\n",
       "    }\n",
       "    90% {\n",
       "      border-color: transparent;\n",
       "      border-bottom-color: var(--fill-color);\n",
       "    }\n",
       "  }\n",
       "</style>\n",
       "\n",
       "  <script>\n",
       "    async function quickchart(key) {\n",
       "      const quickchartButtonEl =\n",
       "        document.querySelector('#' + key + ' button');\n",
       "      quickchartButtonEl.disabled = true;  // To prevent multiple clicks.\n",
       "      quickchartButtonEl.classList.add('colab-df-spinner');\n",
       "      try {\n",
       "        const charts = await google.colab.kernel.invokeFunction(\n",
       "            'suggestCharts', [key], {});\n",
       "      } catch (error) {\n",
       "        console.error('Error during call to suggestCharts:', error);\n",
       "      }\n",
       "      quickchartButtonEl.classList.remove('colab-df-spinner');\n",
       "      quickchartButtonEl.classList.add('colab-df-quickchart-complete');\n",
       "    }\n",
       "    (() => {\n",
       "      let quickchartButtonEl =\n",
       "        document.querySelector('#df-60fdc7d5-a505-443a-b217-f4846e7bd6d5 button');\n",
       "      quickchartButtonEl.style.display =\n",
       "        google.colab.kernel.accessAllowed ? 'block' : 'none';\n",
       "    })();\n",
       "  </script>\n",
       "</div>\n",
       "    </div>\n",
       "  </div>\n"
      ],
      "text/plain": [
       "                                            senences   id\n",
       "0  Владелец «Бирмингема» получил шесть лет тюрьмы...  584\n",
       "1  Акция протеста на Майдане Независимости объявл...  585\n",
       "2  Фольксваген может перейти под контроль Порше \\...  586\n",
       "3  В Москве покажут фильмы Чарли Чаплина с живой ...  587\n",
       "4  Чулпан Хаматова сыграет главную роль в фильме ...  588"
      ]
     },
     "execution_count": 36,
     "metadata": {},
     "output_type": "execute_result"
    }
   ],
   "source": [
    "test = pd.read_json('./data/test.jsonl', lines=True)\n",
    "\n",
    "test.head()"
   ]
  },
  {
   "cell_type": "code",
   "execution_count": 4,
   "metadata": {
    "colab": {
     "base_uri": "https://localhost:8080/"
    },
    "id": "Nof5HvcSRfh8",
    "outputId": "981ed297-1b1d-498a-850a-16b61c7f6c0c"
   },
   "outputs": [
    {
     "name": "stdout",
     "output_type": "stream",
     "text": [
      "Collecting natasha\n",
      "  Downloading natasha-1.6.0-py3-none-any.whl (34.4 MB)\n",
      "\u001b[2K     \u001b[90m━━━━━━━━━━━━━━━━━━━━━━━━━━━━━━━━━━━━━━━━\u001b[0m \u001b[32m34.4/34.4 MB\u001b[0m \u001b[31m34.1 MB/s\u001b[0m eta \u001b[36m0:00:00\u001b[0m\n",
      "\u001b[?25hCollecting pymorphy2 (from natasha)\n",
      "  Downloading pymorphy2-0.9.1-py3-none-any.whl (55 kB)\n",
      "\u001b[2K     \u001b[90m━━━━━━━━━━━━━━━━━━━━━━━━━━━━━━━━━━━━━━━━\u001b[0m \u001b[32m55.5/55.5 kB\u001b[0m \u001b[31m6.3 MB/s\u001b[0m eta \u001b[36m0:00:00\u001b[0m\n",
      "\u001b[?25hCollecting razdel>=0.5.0 (from natasha)\n",
      "  Downloading razdel-0.5.0-py3-none-any.whl (21 kB)\n",
      "Collecting navec>=0.9.0 (from natasha)\n",
      "  Downloading navec-0.10.0-py3-none-any.whl (23 kB)\n",
      "Collecting slovnet>=0.6.0 (from natasha)\n",
      "  Downloading slovnet-0.6.0-py3-none-any.whl (46 kB)\n",
      "\u001b[2K     \u001b[90m━━━━━━━━━━━━━━━━━━━━━━━━━━━━━━━━━━━━━━━━\u001b[0m \u001b[32m46.7/46.7 kB\u001b[0m \u001b[31m4.9 MB/s\u001b[0m eta \u001b[36m0:00:00\u001b[0m\n",
      "\u001b[?25hCollecting yargy>=0.16.0 (from natasha)\n",
      "  Downloading yargy-0.16.0-py3-none-any.whl (33 kB)\n",
      "Collecting ipymarkup>=0.8.0 (from natasha)\n",
      "  Downloading ipymarkup-0.9.0-py3-none-any.whl (14 kB)\n",
      "Collecting intervaltree>=3 (from ipymarkup>=0.8.0->natasha)\n",
      "  Downloading intervaltree-3.1.0.tar.gz (32 kB)\n",
      "  Preparing metadata (setup.py) ... \u001b[?25l\u001b[?25hdone\n",
      "Requirement already satisfied: numpy in /usr/local/lib/python3.10/dist-packages (from navec>=0.9.0->natasha) (1.25.2)\n",
      "Collecting dawg-python>=0.7.1 (from pymorphy2->natasha)\n",
      "  Downloading DAWG_Python-0.7.2-py2.py3-none-any.whl (11 kB)\n",
      "Collecting pymorphy2-dicts-ru<3.0,>=2.4 (from pymorphy2->natasha)\n",
      "  Downloading pymorphy2_dicts_ru-2.4.417127.4579844-py2.py3-none-any.whl (8.2 MB)\n",
      "\u001b[2K     \u001b[90m━━━━━━━━━━━━━━━━━━━━━━━━━━━━━━━━━━━━━━━━\u001b[0m \u001b[32m8.2/8.2 MB\u001b[0m \u001b[31m60.2 MB/s\u001b[0m eta \u001b[36m0:00:00\u001b[0m\n",
      "\u001b[?25hCollecting docopt>=0.6 (from pymorphy2->natasha)\n",
      "  Downloading docopt-0.6.2.tar.gz (25 kB)\n",
      "  Preparing metadata (setup.py) ... \u001b[?25l\u001b[?25hdone\n",
      "Requirement already satisfied: sortedcontainers<3.0,>=2.0 in /usr/local/lib/python3.10/dist-packages (from intervaltree>=3->ipymarkup>=0.8.0->natasha) (2.4.0)\n",
      "Building wheels for collected packages: docopt, intervaltree\n",
      "  Building wheel for docopt (setup.py) ... \u001b[?25l\u001b[?25hdone\n",
      "  Created wheel for docopt: filename=docopt-0.6.2-py2.py3-none-any.whl size=13706 sha256=3c0fd1e342b3de6e5b67e46ee7a129f42ad33704e15947d92a9abf27888726f2\n",
      "  Stored in directory: /root/.cache/pip/wheels/fc/ab/d4/5da2067ac95b36618c629a5f93f809425700506f72c9732fac\n",
      "  Building wheel for intervaltree (setup.py) ... \u001b[?25l\u001b[?25hdone\n",
      "  Created wheel for intervaltree: filename=intervaltree-3.1.0-py2.py3-none-any.whl size=26096 sha256=ef056f08c9d64920f755401bb3591f3d0e38ecaca522a285c81324803c310a03\n",
      "  Stored in directory: /root/.cache/pip/wheels/fa/80/8c/43488a924a046b733b64de3fac99252674c892a4c3801c0a61\n",
      "Successfully built docopt intervaltree\n",
      "Installing collected packages: razdel, pymorphy2-dicts-ru, docopt, dawg-python, pymorphy2, navec, intervaltree, yargy, slovnet, ipymarkup, natasha\n",
      "Successfully installed dawg-python-0.7.2 docopt-0.6.2 intervaltree-3.1.0 ipymarkup-0.9.0 natasha-1.6.0 navec-0.10.0 pymorphy2-0.9.1 pymorphy2-dicts-ru-2.4.417127.4579844 razdel-0.5.0 slovnet-0.6.0 yargy-0.16.0\n"
     ]
    }
   ],
   "source": [
    "# !pip install natasha"
   ]
  },
  {
   "cell_type": "code",
   "execution_count": 13,
   "metadata": {
    "id": "NzW7CbXtRfbT"
   },
   "outputs": [],
   "source": [
    "from natasha import Segmenter, MorphVocab, NewsEmbedding, NewsMorphTagger, NewsSyntaxParser, NewsNERTagger,NamesExtractor, Doc"
   ]
  },
  {
   "cell_type": "markdown",
   "metadata": {
    "id": "ab7m-vD0kkdC"
   },
   "source": [
    "## Prediction for test data\n"
   ]
  },
  {
   "cell_type": "code",
   "execution_count": 44,
   "metadata": {
    "id": "h-_c-MZ9fFrZ"
   },
   "outputs": [],
   "source": [
    "out = []\n",
    "for i in range(len(test)):\n",
    "    d = {'id': int(test['id'][i]), 'ners': []}\n",
    "    # using library Natasha\n",
    "    sentence = Doc(test['senences'][i])\n",
    "    segmenter = Segmenter()\n",
    "    sentence.segment(segmenter)\n",
    "    emb = NewsEmbedding()\n",
    "    ner_tagger = NewsNERTagger(emb)\n",
    "    sentence.tag_ner(ner_tagger)\n",
    "    for item in sentence.ner.spans:\n",
    "        tag = ''\n",
    "        if item.type == 'ORG':\n",
    "            tag = 'ORGANIZATION'\n",
    "        elif item.type == 'PER':\n",
    "            tag = 'PERSON'\n",
    "        elif item.type == 'LOC':\n",
    "            tag = 'LOCATION'\n",
    "        d['ners'].append([int(item.start), int(item.stop) - 1, tag])\n",
    "    out.append(d)"
   ]
  },
  {
   "cell_type": "markdown",
   "metadata": {
    "id": "yK7Xch7ykFGM"
   },
   "source": [
    "## Write to JSONL"
   ]
  },
  {
   "cell_type": "code",
   "execution_count": 49,
   "metadata": {
    "colab": {
     "base_uri": "https://localhost:8080/"
    },
    "id": "UGASuKEhRbU5",
    "outputId": "551f3394-e93a-4dc0-95db-1ecd9e348169"
   },
   "outputs": [
    {
     "name": "stdout",
     "output_type": "stream",
     "text": [
      "updating: test.jsonl (deflated 78%)\n"
     ]
    }
   ],
   "source": [
    "import json\n",
    "\n",
    "with open('test.jsonl', 'w') as f:\n",
    "    for item in out:\n",
    "        json.dump(item, f, default=str)\n",
    "        f.write('\\n')\n",
    "\n",
    "!zip text test.jsonl"
   ]
  }
 ],
 "metadata": {
  "colab": {
   "provenance": []
  },
  "kernelspec": {
   "display_name": "Python 3 (ipykernel)",
   "language": "python",
   "name": "python3"
  },
  "language_info": {
   "codemirror_mode": {
    "name": "ipython",
    "version": 3
   },
   "file_extension": ".py",
   "mimetype": "text/x-python",
   "name": "python",
   "nbconvert_exporter": "python",
   "pygments_lexer": "ipython3",
   "version": "3.12.1"
  }
 },
 "nbformat": 4,
 "nbformat_minor": 4
}
